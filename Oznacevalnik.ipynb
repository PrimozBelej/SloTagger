{
 "cells": [
  {
   "cell_type": "code",
   "execution_count": 1,
   "metadata": {},
   "outputs": [
    {
     "name": "stderr",
     "output_type": "stream",
     "text": [
      "/home/primoz/anaconda3/lib/python3.6/site-packages/h5py/__init__.py:34: FutureWarning: Conversion of the second argument of issubdtype from `float` to `np.floating` is deprecated. In future, it will be treated as `np.float64 == np.dtype(float).type`.\n",
      "  from ._conv import register_converters as _register_converters\n",
      "Using TensorFlow backend.\n"
     ]
    }
   ],
   "source": [
    "from keras.models import Sequential, load_model\n",
    "import numpy as np\n",
    "from keras.layers.recurrent import LSTM\n",
    "from keras.layers import *\n",
    "from keras.callbacks import EarlyStopping\n",
    "from keras.preprocessing.sequence import pad_sequences\n",
    "from keras.layers.embeddings import Embedding\n",
    "import re"
   ]
  },
  {
   "cell_type": "markdown",
   "metadata": {},
   "source": [
    "## Branje podatkov"
   ]
  },
  {
   "cell_type": "code",
   "execution_count": 2,
   "metadata": {
    "collapsed": true
   },
   "outputs": [],
   "source": [
    "OUT_FILE = './podatki/besede_oznake.tsv'                                        \n",
    "                                                                                \n",
    "with open('./podatki/ssj500k20.vert') as f:                                     \n",
    "    outfile = open(OUT_FILE, 'w')                                               \n",
    "    for line in f:                                                              \n",
    "        line_items = re.split(r'\\t+', line)                                     \n",
    "        if len(line_items) == 14:                                               \n",
    "            outfile.write('{}\\t{}\\n'.format(line_items[0], line_items[2]))      \n",
    "        elif line.startswith('</s>'):                                           \n",
    "            outfile.write('\\n')                                                 \n",
    "    outfile.close()  "
   ]
  },
  {
   "cell_type": "code",
   "execution_count": 3,
   "metadata": {
    "collapsed": true
   },
   "outputs": [],
   "source": [
    "vsebina = open(OUT_FILE).readlines()\n",
    "\n",
    "stavki = []\n",
    "stavek = []\n",
    "\n",
    "oznake = []\n",
    "oznake_stavka = []\n",
    "\n",
    "for vrstica in vsebina:\n",
    "    vrstica = vrstica.strip().split('\\t')\n",
    "    if len(vrstica) == 2:\n",
    "        stavek.append(vrstica[0])\n",
    "        oznake_stavka.append(vrstica[1][0])\n",
    "    else:\n",
    "        stavki.append(stavek)\n",
    "        stavek = []\n",
    "        oznake.append(oznake_stavka)\n",
    "        oznake_stavka = []\n",
    "\n",
    "if len(stavek) > 0:\n",
    "    stavki.append(stavek)\n",
    "    oznake.append(oznake_stavka)"
   ]
  },
  {
   "cell_type": "code",
   "execution_count": 4,
   "metadata": {
    "collapsed": true
   },
   "outputs": [],
   "source": [
    "maxlen_stavek = 64\n",
    "filtrirani_stavki = []\n",
    "filtrirane_oznake = []\n",
    "for i in range(len(stavki)):\n",
    "    if len(stavki[i]) <= maxlen_stavek:\n",
    "        filtrirani_stavki.append(stavki[i])\n",
    "        filtrirane_oznake.append(oznake[i])"
   ]
  },
  {
   "cell_type": "code",
   "execution_count": 5,
   "metadata": {
    "collapsed": true
   },
   "outputs": [],
   "source": [
    "maxlen_beseda = 16\n",
    "stavki = filtrirani_stavki\n",
    "oznake = filtrirane_oznake\n",
    "filtrirani_stavki = []\n",
    "filtrirane_oznake = []\n",
    "for i in range(len(stavki)):\n",
    "    if max([len(beseda) for beseda in stavki[i]]) <= maxlen_beseda:\n",
    "        filtrirani_stavki.append(stavki[i])\n",
    "        filtrirane_oznake.append(oznake[i])\n",
    "stavki = filtrirani_stavki\n",
    "oznake = filtrirane_oznake"
   ]
  },
  {
   "cell_type": "markdown",
   "metadata": {},
   "source": [
    "## Priprava vektorja razredov"
   ]
  },
  {
   "cell_type": "code",
   "execution_count": 6,
   "metadata": {
    "collapsed": true
   },
   "outputs": [],
   "source": [
    "def oznaka2vektor(oznaka, slovar_oznak, dim_oznak):\n",
    "    \"\"\" One-hot\"\"\"\n",
    "    vektor = np.zeros(dim_oznak)\n",
    "    vektor[slovar_oznak[oznaka]] = 1\n",
    "    return vektor\n",
    "\n",
    "def vektor2oznaka(vektor, mozne_oznake):\n",
    "    return mozne_oznake[np.where(vektor == 1)[0][0]]\n",
    "\n",
    "mozne_oznake = set()\n",
    "for o in oznake:\n",
    "    mozne_oznake |= set(o)\n",
    "    \n",
    "mozne_oznake = sorted(list(mozne_oznake))\n",
    "slovar_oznak = {oznaka: i for (i, oznaka) in enumerate(mozne_oznake)}\n",
    "dim_oznak = len(mozne_oznake)\n",
    "\n",
    "y = pad_sequences(\n",
    "    [pad_sequences(\n",
    "        np.array([oznaka2vektor(oznaka, slovar_oznak, dim_oznak) for oznaka in o]).T\n",
    "    ).T for o in oznake])\n",
    "assert y.shape == (len(oznake), maxlen_stavek, dim_oznak)"
   ]
  },
  {
   "cell_type": "markdown",
   "metadata": {},
   "source": [
    "## Priprava vektorja znacilk"
   ]
  },
  {
   "cell_type": "code",
   "execution_count": 7,
   "metadata": {
    "collapsed": true
   },
   "outputs": [],
   "source": [
    "mozni_znaki = set()\n",
    "for s in stavki:\n",
    "    for beseda in s:\n",
    "        mozni_znaki |= set(beseda)\n",
    "mozni_znaki = sorted(list(mozni_znaki))\n",
    "slovar_znakov = {znak: i+1 for (i, znak) in enumerate(mozni_znaki)}\n",
    "    \n",
    "dim_znakov = len(slovar_znakov)\n",
    "x = pad_sequences([pad_sequences([[slovar_znakov[z] for z in b] for b in stavek], maxlen=maxlen_beseda) for stavek in stavki], maxlen=maxlen_stavek)\n",
    "assert x.shape == (len(stavki), maxlen_stavek, maxlen_beseda)"
   ]
  },
  {
   "cell_type": "markdown",
   "metadata": {},
   "source": [
    "## Gradnja modela"
   ]
  },
  {
   "cell_type": "code",
   "execution_count": 15,
   "metadata": {
    "collapsed": true
   },
   "outputs": [],
   "source": [
    "cnn = Sequential()\n",
    "cnn.add(Embedding(dim_znakov, 15, input_length=maxlen_beseda))\n",
    "\n",
    "#filter_widths = list(range(1, 8))\n",
    "#n_filters = [min(200, 50*w) for w in filter_widths]\n",
    "\n",
    "filter_widths = list(range(1, 7))\n",
    "n_filters = [25*w for w in filter_widths]\n",
    "\n",
    "for i in range(len(filter_widths)):\n",
    "    cnn.add(Conv1D(filters=n_filters[i], kernel_size=filter_widths[i], padding='causal', activation='tanh'))\n",
    "    cnn.add(Dropout(0.1))\n",
    "cnn.add(MaxPooling1D(pool_size=(2)))\n",
    "cnn.add(Flatten())\n",
    "\n",
    "model = Sequential()\n",
    "model.add(Masking(mask_value=0., input_shape=(maxlen_stavek, maxlen_beseda)))\n",
    "model.add(TimeDistributed(cnn))\n",
    "model.add(Bidirectional(LSTM(300, return_sequences=True, dropout=0.2, recurrent_dropout=0.2, implementation=2), merge_mode='concat'))\n",
    "model.add(Dense(dim_oznak, activation='softmax'))\n",
    "model.compile(loss='categorical_crossentropy', optimizer='adam', metrics=['accuracy'])"
   ]
  },
  {
   "cell_type": "markdown",
   "metadata": {},
   "source": [
    "## Učenje modela"
   ]
  },
  {
   "cell_type": "code",
   "execution_count": 16,
   "metadata": {},
   "outputs": [
    {
     "name": "stdout",
     "output_type": "stream",
     "text": [
      "Train on 19000 samples, validate on 1000 samples\n",
      "Epoch 1/40\n",
      "19000/19000 [==============================] - 405s 21ms/step - loss: 0.8967 - acc: 0.6835 - val_loss: 0.5392 - val_acc: 0.8139\n",
      "Epoch 2/40\n",
      "19000/19000 [==============================] - 405s 21ms/step - loss: 0.5129 - acc: 0.8224 - val_loss: 0.3782 - val_acc: 0.8714\n",
      "Epoch 3/40\n",
      "19000/19000 [==============================] - 406s 21ms/step - loss: 0.3692 - acc: 0.8744 - val_loss: 0.2533 - val_acc: 0.9160\n",
      "Epoch 4/40\n",
      "19000/19000 [==============================] - 406s 21ms/step - loss: 0.2727 - acc: 0.9092 - val_loss: 0.1994 - val_acc: 0.9350\n",
      "Epoch 5/40\n",
      "19000/19000 [==============================] - 405s 21ms/step - loss: 0.2206 - acc: 0.9265 - val_loss: 0.1557 - val_acc: 0.9483\n",
      "Epoch 6/40\n",
      "19000/19000 [==============================] - 406s 21ms/step - loss: 0.1866 - acc: 0.9379 - val_loss: 0.1497 - val_acc: 0.9502\n",
      "Epoch 7/40\n",
      "19000/19000 [==============================] - 406s 21ms/step - loss: 0.1657 - acc: 0.9448 - val_loss: 0.1270 - val_acc: 0.9580\n",
      "Epoch 8/40\n",
      "19000/19000 [==============================] - 406s 21ms/step - loss: 0.1483 - acc: 0.9504 - val_loss: 0.1139 - val_acc: 0.9610\n",
      "Epoch 9/40\n",
      "19000/19000 [==============================] - 406s 21ms/step - loss: 0.1331 - acc: 0.9551 - val_loss: 0.1096 - val_acc: 0.9642\n",
      "Epoch 10/40\n",
      "19000/19000 [==============================] - 406s 21ms/step - loss: 0.1221 - acc: 0.9585 - val_loss: 0.1001 - val_acc: 0.9664\n",
      "Epoch 11/40\n",
      "19000/19000 [==============================] - 406s 21ms/step - loss: 0.1117 - acc: 0.9627 - val_loss: 0.0987 - val_acc: 0.9671\n",
      "Epoch 12/40\n",
      "19000/19000 [==============================] - 406s 21ms/step - loss: 0.1061 - acc: 0.9640 - val_loss: 0.1011 - val_acc: 0.9663\n",
      "Epoch 13/40\n",
      "19000/19000 [==============================] - 406s 21ms/step - loss: 0.1000 - acc: 0.9662 - val_loss: 0.0909 - val_acc: 0.9706\n",
      "Epoch 14/40\n",
      "19000/19000 [==============================] - 406s 21ms/step - loss: 0.0939 - acc: 0.9678 - val_loss: 0.0984 - val_acc: 0.9682\n",
      "Epoch 15/40\n",
      "19000/19000 [==============================] - 406s 21ms/step - loss: 0.0883 - acc: 0.9696 - val_loss: 0.0893 - val_acc: 0.9699\n",
      "Epoch 16/40\n",
      "19000/19000 [==============================] - 406s 21ms/step - loss: 0.0826 - acc: 0.9714 - val_loss: 0.0856 - val_acc: 0.9724\n",
      "Epoch 17/40\n",
      "19000/19000 [==============================] - 406s 21ms/step - loss: 0.0805 - acc: 0.9720 - val_loss: 0.0885 - val_acc: 0.9711\n",
      "Epoch 18/40\n",
      "19000/19000 [==============================] - 406s 21ms/step - loss: 0.0754 - acc: 0.9740 - val_loss: 0.0885 - val_acc: 0.9708\n",
      "Epoch 19/40\n",
      "19000/19000 [==============================] - 406s 21ms/step - loss: 0.0751 - acc: 0.9738 - val_loss: 0.0838 - val_acc: 0.9729\n",
      "Epoch 20/40\n",
      "19000/19000 [==============================] - 406s 21ms/step - loss: 0.0702 - acc: 0.9753 - val_loss: 0.0881 - val_acc: 0.9718\n",
      "Epoch 21/40\n",
      "19000/19000 [==============================] - 405s 21ms/step - loss: 0.0685 - acc: 0.9761 - val_loss: 0.0804 - val_acc: 0.9749\n",
      "Epoch 22/40\n",
      "19000/19000 [==============================] - 406s 21ms/step - loss: 0.0674 - acc: 0.9765 - val_loss: 0.0813 - val_acc: 0.9746\n",
      "Epoch 23/40\n",
      "19000/19000 [==============================] - 406s 21ms/step - loss: 0.0647 - acc: 0.9773 - val_loss: 0.0790 - val_acc: 0.9740\n",
      "Epoch 24/40\n",
      "19000/19000 [==============================] - 405s 21ms/step - loss: 0.0626 - acc: 0.9780 - val_loss: 0.0792 - val_acc: 0.9744\n",
      "Epoch 25/40\n",
      "19000/19000 [==============================] - 405s 21ms/step - loss: 0.0611 - acc: 0.9784 - val_loss: 0.0807 - val_acc: 0.9743\n",
      "Epoch 26/40\n",
      "19000/19000 [==============================] - 405s 21ms/step - loss: 0.0598 - acc: 0.9791 - val_loss: 0.0826 - val_acc: 0.9742\n",
      "Epoch 27/40\n",
      "19000/19000 [==============================] - 405s 21ms/step - loss: 0.0576 - acc: 0.9796 - val_loss: 0.0837 - val_acc: 0.9733\n",
      "Epoch 28/40\n",
      "19000/19000 [==============================] - 405s 21ms/step - loss: 0.0561 - acc: 0.9803 - val_loss: 0.0806 - val_acc: 0.9742\n"
     ]
    },
    {
     "data": {
      "text/plain": [
       "<keras.callbacks.History at 0x7f69284eb518>"
      ]
     },
     "execution_count": 16,
     "metadata": {},
     "output_type": "execute_result"
    }
   ],
   "source": [
    "earlystop_cb = EarlyStopping(monitor='val_loss', patience=5, verbose=0, mode='auto')\n",
    "model.fit(x[:20000], y[:20000], epochs=40, validation_split=0.05, callbacks=[earlystop_cb])"
   ]
  },
  {
   "cell_type": "markdown",
   "metadata": {},
   "source": [
    "## Evalvacija"
   ]
  },
  {
   "cell_type": "code",
   "execution_count": 17,
   "metadata": {},
   "outputs": [
    {
     "name": "stdout",
     "output_type": "stream",
     "text": [
      "5000/5000 [==============================] - 25s 5ms/step\n",
      "0.09513550627827644\n",
      "0.971920181274414\n"
     ]
    }
   ],
   "source": [
    "(loss, accuracy) = model.evaluate(x[20000:25000], y[20000:25000])\n",
    "print(loss)\n",
    "print(accuracy)"
   ]
  },
  {
   "cell_type": "code",
   "execution_count": 18,
   "metadata": {
    "collapsed": true
   },
   "outputs": [],
   "source": [
    "model.save('model2.h5')"
   ]
  },
  {
   "cell_type": "markdown",
   "metadata": {},
   "source": [
    "## Primeri"
   ]
  },
  {
   "cell_type": "code",
   "execution_count": 19,
   "metadata": {
    "collapsed": true
   },
   "outputs": [],
   "source": [
    "obrnjen_slovar_znakov = {kljuc: znak for (znak, kljuc) in slovar_znakov.items()}\n",
    "\n",
    "def unpad_stavek(vlozitve):\n",
    "    stavki = []\n",
    "    for v_stavek in vlozitve:\n",
    "        stavki.append([])\n",
    "        for v_beseda in v_stavek:\n",
    "            if sum(v_beseda) == 0:\n",
    "                continue\n",
    "                \n",
    "            stavki[-1].append('')\n",
    "            for v_znak in v_beseda:\n",
    "                if v_znak == 0:\n",
    "                    continue\n",
    "                stavki[-1][-1] += obrnjen_slovar_znakov[v_znak]\n",
    "    return stavki"
   ]
  },
  {
   "cell_type": "code",
   "execution_count": 38,
   "metadata": {},
   "outputs": [
    {
     "name": "stdout",
     "output_type": "stream",
     "text": [
      "['!', '\"', '#', '$', '%', '&', \"'\", '(', ')', '*', '+', ',', '-', '.', '/', '0', '1', '2', '3', '4', '5', '6', '7', '8', '9', ':', ';', '=', '>', '?', '@', 'A', 'B', 'C', 'D', 'E', 'F', 'G', 'H', 'I', 'J', 'K', 'L', 'M', 'N', 'O', 'P', 'Q', 'R', 'S', 'T', 'U', 'V', 'W', 'X', 'Y', 'Z', '[', ']', '_', 'a', 'b', 'c', 'd', 'e', 'f', 'g', 'h', 'i', 'j', 'k', 'l', 'm', 'n', 'o', 'p', 'q', 'r', 's', 't', 'u', 'v', 'w', 'x', 'y', 'z', '{', '}', '©', '«', '¯', '°', 'µ', '»', 'Á', 'Ä', 'Å', 'É', 'Ó', 'Ö', '×', 'à', 'á', 'â', 'ã', 'ä', 'ç', 'è', 'é', 'ê', 'ë', 'í', 'î', 'ó', 'ô', 'ö', 'ø', 'ü', 'Ć', 'ć', 'Č', 'č', 'Đ', 'đ', 'Š', 'š', 'Ž', 'ž', '–', '—', '‘', '’', '“', '”', '•', '…']\n",
      "\n",
      "136\n"
     ]
    }
   ],
   "source": [
    "print(mozni_znaki)\n",
    "print()\n",
    "print(len(mozni_znaki))"
   ]
  }
 ],
 "metadata": {
  "kernelspec": {
   "display_name": "Python 3",
   "language": "python",
   "name": "python3"
  },
  "language_info": {
   "codemirror_mode": {
    "name": "ipython",
    "version": 3
   },
   "file_extension": ".py",
   "mimetype": "text/x-python",
   "name": "python",
   "nbconvert_exporter": "python",
   "pygments_lexer": "ipython3",
   "version": "3.6.3"
  }
 },
 "nbformat": 4,
 "nbformat_minor": 2
}
